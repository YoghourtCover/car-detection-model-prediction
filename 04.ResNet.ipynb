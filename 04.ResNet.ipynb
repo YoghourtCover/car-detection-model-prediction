{
 "cells": [
  {
   "cell_type": "markdown",
   "metadata": {},
   "source": [
    "# Load Libraries"
   ]
  },
  {
   "cell_type": "code",
   "execution_count": null,
   "metadata": {},
   "outputs": [],
   "source": [
    "import os\n",
    "import numpy as np\n",
    "import tensorflow as tf\n",
    "\n",
    "import matplotlib.pyplot as plt\n",
    "%matplotlib inline\n",
    "from matplotlib.pyplot import imshow\n",
    "\n",
    "import h5py\n",
    "import cv2\n",
    "\n",
    "slim = tf.contrib.slim\n",
    "\n",
    "#keras libraries\n",
    "import keras\n",
    "from keras import layers\n",
    "from keras.layers import Input, Dropout, Add, Dense, Activation, ZeroPadding2D, BatchNormalization, Flatten, Conv2D, MaxPooling2D\n",
    "from keras.models import Model, load_model\n",
    "#from keras.preprocessing import image\n",
    "from keras.preprocessing.image import ImageDataGenerator, array_to_img, img_to_array, load_img\n",
    "from keras.initializers import glorot_uniform\n",
    "\n",
    "import keras.backend as K\n",
    "K.set_image_data_format('channels_last')\n",
    "K.set_learning_phase(1)\n",
    "\n",
    "from sklearn.preprocessing import LabelBinarizer\n",
    "import random\n",
    "from random import randint #to generate random numbers\n",
    "import pydot"
   ]
  },
  {
   "cell_type": "markdown",
   "metadata": {},
   "source": [
    "# Read The H5 Valid Data"
   ]
  },
  {
   "cell_type": "code",
   "execution_count": null,
   "metadata": {},
   "outputs": [],
   "source": [
    "hdf5_dataset = {}\n",
    "hdf5_dataset_list = ['batch', 'label', 'hotlabel', 'img_name']\n",
    "hdf5_dataset['name'] = hdf5_dataset_list"
   ]
  },
  {
   "cell_type": "code",
   "execution_count": null,
   "metadata": {},
   "outputs": [],
   "source": [
    "def get_hdf5(hdf5_dataset, hdf5_path):\n",
    "       \n",
    "    # val-test\n",
    "    # your val set labels\n",
    "    with h5py.File(hdf5_path,'r') as hdf5_file:\n",
    "       \n",
    "        # Total number of samples\n",
    "        X_batch = np.array(hdf5_file[hdf5_dataset['name'][0]][:])\n",
    "\n",
    "        #Y_label = np.array(hdf5_file[hdf5_dataset['name'][1]][:])\n",
    "        Y_hot_label = np.array(hdf5_file[hdf5_dataset['name'][2]][:])\n",
    "        img_name = np.array(hdf5_file[hdf5_dataset['name'][3]][:])\n",
    "    \n",
    "        return X_batch, Y_hot_label, img_name\n",
    "    "
   ]
  },
  {
   "cell_type": "markdown",
   "metadata": {},
   "source": [
    "## Identity Block"
   ]
  },
  {
   "cell_type": "code",
   "execution_count": null,
   "metadata": {},
   "outputs": [],
   "source": [
    "# identity_block\n",
    "\n",
    "def identity_block(X, f, filters, stage, block):\n",
    "    \"\"\"\n",
    "    Implementation of the identity block as defined in Figure 3\n",
    "\n",
    "    Arguments:\n",
    "    X -- input tensor of shape (m, n_H_prev, n_W_prev, n_C_prev)\n",
    "    f -- integer, specifying the shape of the middle CONV's window for the main path\n",
    "    filters -- python list of integers, defining the number of filters in the CONV layers of the main path\n",
    "    stage -- integer, used to name the layers, depending on their position in the network\n",
    "    block -- string/character, used to name the layers, depending on their position in the network\n",
    "\n",
    "    Returns:\n",
    "    X -- output of the identity block, tensor of shape (n_H, n_W, n_C)\n",
    "    \"\"\"\n",
    "\n",
    "    # defining name basis\n",
    "    conv_name_base = 'res' + str(stage) + block + '_branch'\n",
    "    bn_name_base = 'bn' + str(stage) + block + '_branch'\n",
    "\n",
    "    # Retrieve Filters\n",
    "    F1, F2, F3 = filters\n",
    "\n",
    "    # Save the input value. You'll need this later to add back to the main path. \n",
    "    X_shortcut = X\n",
    "\n",
    "    # First component of main path\n",
    "    X = Conv2D(filters = F1, kernel_size = (1, 1), strides = (1,1), padding = 'valid', name = conv_name_base + '2a', kernel_initializer = glorot_uniform(seed=0))(X)\n",
    "    X = BatchNormalization(axis = 3, name = bn_name_base + '2a')(X)\n",
    "    X = Activation('relu')(X)\n",
    "\n",
    "    # Second component of main path\n",
    "    X = Conv2D(filters = F2, kernel_size = (f, f), strides = (1,1), padding = 'same', name = conv_name_base + '2b', kernel_initializer = glorot_uniform(seed=0))(X)\n",
    "    X = BatchNormalization(axis = 3, name = bn_name_base + '2b')(X)\n",
    "    X = Activation('relu')(X)\n",
    "\n",
    "    # Third component of main path\n",
    "    X = Conv2D(filters = F3, kernel_size = (1, 1), strides = (1,1), padding = 'valid', name = conv_name_base + '2c', kernel_initializer = glorot_uniform(seed=0))(X)\n",
    "    X = BatchNormalization(axis = 3, name = bn_name_base + '2c')(X)\n",
    "\n",
    "    # Final step: Add shortcut value to main path, and pass it through a RELU activation\n",
    "    X = Add()([X, X_shortcut]) \n",
    "    X = Activation('relu')(X)\n",
    "\n",
    "    return X"
   ]
  },
  {
   "cell_type": "markdown",
   "metadata": {},
   "source": [
    "## Conv Block"
   ]
  },
  {
   "cell_type": "code",
   "execution_count": null,
   "metadata": {},
   "outputs": [],
   "source": [
    "def convolutional_block(X, f, filters, stage, block, s = 2):\n",
    "    \"\"\"\n",
    "    Implementation of the convolutional block as defined in Figure 4\n",
    "\n",
    "    Arguments:\n",
    "    X -- input tensor of shape (m, n_H_prev, n_W_prev, n_C_prev)\n",
    "    f -- integer, specifying the shape of the middle CONV's window for the main path\n",
    "    filters -- python list of integers, defining the number of filters in the CONV layers of the main path\n",
    "    stage -- integer, used to name the layers, depending on their position in the network\n",
    "    block -- string/character, used to name the layers, depending on their position in the network\n",
    "    s -- Integer, specifying the stride to be used\n",
    "\n",
    "    Returns:\n",
    "    X -- output of the convolutional block, tensor of shape (n_H, n_W, n_C)\n",
    "    \"\"\"\n",
    "\n",
    "    # defining name basis\n",
    "    conv_name_base = 'res' + str(stage) + block + '_branch'\n",
    "    bn_name_base = 'bn' + str(stage) + block + '_branch'\n",
    "\n",
    "    # Retrieve Filters\n",
    "    F1, F2, F3 = filters\n",
    "\n",
    "    # Save the input value\n",
    "    X_shortcut = X\n",
    "\n",
    "    # First component of main path \n",
    "    X = Conv2D(F1, (3, 3), strides = (s,s), padding = 'same', name = conv_name_base + '2a', kernel_initializer = glorot_uniform(seed=0))(X)\n",
    "    X = BatchNormalization(axis = 3, name = bn_name_base + '2a')(X)\n",
    "    X = Activation('relu')(X)\n",
    "\n",
    "    # Second component of main path\n",
    "    X = Conv2D(F2, (f, f), strides = (1,1), padding = 'same', name = conv_name_base + '2b', kernel_initializer = glorot_uniform(seed=0))(X)\n",
    "    X = BatchNormalization(axis = 3, name = bn_name_base + '2b')(X)\n",
    "    X = Activation('relu')(X)\n",
    "\n",
    "    # Third component of main path\n",
    "    X = Conv2D(F3, (1, 1), strides = (1,1), padding = 'same', name = conv_name_base + '2c', kernel_initializer = glorot_uniform(seed=0))(X)\n",
    "    X = BatchNormalization(axis = 3, name = bn_name_base + '2c')(X)\n",
    "\n",
    "    X_shortcut = Conv2D(F3, (3, 3), strides = (s,s), padding = 'same', name = conv_name_base + '1', kernel_initializer = glorot_uniform(seed=0))(X_shortcut)\n",
    "    X_shortcut = BatchNormalization(axis = 3, name = bn_name_base + '1')(X_shortcut)\n",
    "\n",
    "    # Final step: Add shortcut value to main path, and pass it through a RELU activation\n",
    "    X = Add()([X, X_shortcut])\n",
    "    X = Activation('relu')(X)\n",
    "\n",
    "    return X"
   ]
  },
  {
   "cell_type": "markdown",
   "metadata": {},
   "source": [
    "# Build Model"
   ]
  },
  {
   "cell_type": "code",
   "execution_count": null,
   "metadata": {},
   "outputs": [],
   "source": [
    "def ResNet50(input_shape = (300, 300, 3), classes = 7):\n",
    "    \"\"\"\n",
    "    Implementation of the popular ResNet50 the following architecture:\n",
    "    CONV2D -> BATCHNORM -> RELU -> MAXPOOL -> CONVBLOCK -> IDBLOCK*2 -> CONVBLOCK -> IDBLOCK*3\n",
    "    -> CONVBLOCK -> IDBLOCK*5 -> CONVBLOCK -> IDBLOCK*2 -> AVGPOOL -> TOPLAYER\n",
    "\n",
    "    Arguments:\n",
    "    input_shape -- shape of the images of the dataset\n",
    "    classes -- integer, number of classes\n",
    "\n",
    "    Returns:\n",
    "    model -- a Model() instance in Keras\n",
    "    \"\"\"\n",
    "\n",
    "    # Define the input as a tensor with shape input_shape\n",
    "    X_input = Input(input_shape)\n",
    "\n",
    "    # Zero-Padding\n",
    "    X = ZeroPadding2D((1, 1))(X_input)\n",
    "\n",
    "    # Stage 1\n",
    "    X = Conv2D(16, (3, 3), strides = (2, 2), name = 'conv1', kernel_initializer = glorot_uniform(seed=0))(X)\n",
    "    print('Conv1a: ' + str(X.shape))\n",
    "    X = BatchNormalization(axis = 3, name = 'bn_conv1')(X)\n",
    "    X = Activation('relu')(X)\n",
    "    \n",
    "    # Stage 2\n",
    "    X = convolutional_block(X, f = 3, filters = [16, 16, 32], stage = 2, block='a', s = 2)\n",
    "    print('Convblock2a: ' + str(X.shape))\n",
    "    X = identity_block(X, 3, [32, 32, 32], stage=2, block='b')\n",
    "    print('Identityblock3b: ' + str(X.shape))\n",
    "    \n",
    "    X = MaxPooling2D( strides=(2, 2))(X)\n",
    "    print('MaxPool2a: ' + str(X.shape))\n",
    "\n",
    "    # Stage 3\n",
    "    X = convolutional_block(X, f = 3, filters = [32, 32, 64], stage = 3, block='a', s = 2)\n",
    "    print('Convblock3a: ' + str(X.shape))\n",
    "    X = identity_block(X, 3, [64, 64, 64], stage=3, block='b')\n",
    "    print('Identityblock3b: ' + str(X.shape))\n",
    "    X = identity_block(X, 3, [64, 64, 64], stage=3, block='c')\n",
    "    print('Identityblock3c: ' + str(X.shape))\n",
    "\n",
    "    X = MaxPooling2D( strides=(2, 2))(X)\n",
    "    print('MaxPool3a: ' + str(X.shape))\n",
    "    \n",
    "    # Stage 4\n",
    "    X = convolutional_block(X, f = 3, filters = [64, 64, 128], stage = 4, block='a', s = 2)\n",
    "    print('Convblock4a: ' + str(X.shape))\n",
    "    X = identity_block(X, 3, [128, 128, 128], stage=4, block='b')\n",
    "    print('Identityblock4b: ' + str(X.shape))\n",
    "\n",
    "    # Stage 5 \n",
    "    X = convolutional_block(X, f = 3, filters = [128, 128, 256], stage = 5, block='a', s = 2)\n",
    "    print('Convblock5a: ' + str(X.shape))\n",
    "\n",
    "    # MAXPOOL \n",
    "    X = MaxPooling2D( strides=(2, 2))(X)\n",
    "    print('MaxPool: ' + str(X.shape))\n",
    "\n",
    "    # output layer\n",
    "    X = Flatten()(X)\n",
    "    \n",
    "    X = Dense(64)(X)\n",
    "    X = Activation('relu')(X)\n",
    "    X = Dropout(0.5)(X)\n",
    "    \n",
    "    X = Dense(classes, activation='softmax', name='fc' + str(classes), kernel_initializer = glorot_uniform(seed=0))(X)\n",
    "\n",
    "    # Create model\n",
    "    model = Model(inputs = X_input, outputs = X, name='ResNet50')\n",
    "\n",
    "    return model"
   ]
  },
  {
   "cell_type": "code",
   "execution_count": null,
   "metadata": {},
   "outputs": [],
   "source": [
    "# Run the model\n",
    "model = ResNet50(input_shape = (300, 300, 3), classes = 7)"
   ]
  },
  {
   "cell_type": "code",
   "execution_count": null,
   "metadata": {},
   "outputs": [],
   "source": [
    "#def top_1_accuracy(X_train, Y_train):\n",
    "#    return keras.metrics.top_k_categorical_accuracy(X_train, Y_train, k=1)\n",
    "#\n",
    "#def top_2_accuracy(X_train, Y_train):    \n",
    "#    return keras.metrics.top_k_categorical_accuracy(X_train, Y_train, k=2)\n",
    "#\n",
    "#def top_3_accuracy(X_train, Y_train):\n",
    "#    return keras.metrics.top_k_categorical_accuracy(X_train, Y_train, k=3)\n",
    "\n",
    "#model.compile(optimizer='adam', loss='categorical_crossentropy', metrics=[top_1_accuracy, top_2_accuracy, top_3_accuracy])"
   ]
  },
  {
   "cell_type": "code",
   "execution_count": null,
   "metadata": {},
   "outputs": [],
   "source": [
    "model.compile(optimizer='adam', loss='categorical_crossentropy', metrics=['accuracy'])"
   ]
  },
  {
   "cell_type": "markdown",
   "metadata": {},
   "source": [
    "# Training Part"
   ]
  },
  {
   "cell_type": "code",
   "execution_count": null,
   "metadata": {},
   "outputs": [],
   "source": [
    "# Load the Validation Data\n",
    "hdf5_path = 'read/it/from/this/path/val.hdf5'\n",
    "X_val, Y_hot_label_val, img_name_val = get_hdf5(hdf5_dataset, hdf5_path)"
   ]
  },
  {
   "cell_type": "code",
   "execution_count": null,
   "metadata": {},
   "outputs": [],
   "source": [
    "history = {}"
   ]
  },
  {
   "cell_type": "code",
   "execution_count": null,
   "metadata": {
    "scrolled": true
   },
   "outputs": [],
   "source": [
    "def train(hyperparameters, hdf5_base_path, history):\n",
    "\n",
    "    history['loss'] = []\n",
    "    history['acc'] = []\n",
    "    history['val_loss'] = []\n",
    "    history['val_acc'] = []\n",
    "    \n",
    "    for i in range(1, hyperparameters['epoch'] + 1):\n",
    "        print('epoch: ' + str(i))   \n",
    "        for k in range(1, hyperparameters['train_batch_len'] + 1):\n",
    "            print('batch: ' + str(k))   \n",
    "            # train1\n",
    "            hdf5_path_train = hdf5_base_path + 'train' + str(k) + '.hdf5'\n",
    "\n",
    "            with h5py.File(hdf5_path_train,'r') as train_dataset:\n",
    "\n",
    "                X_train = train_dataset[hdf5_dataset['name'][0]][:]\n",
    "\n",
    "                Y_hot_label_train = np.array(train_dataset[hdf5_dataset['name'][2]][:])\n",
    "\n",
    "                model_history = model.fit(X_train, Y_hot_label_train, \\\n",
    "                          epochs = 1, batch_size = hyperparameters['batch_size'], \\\n",
    "                        verbose=1, validation_data = (X_val, Y_hot_label_val))\n",
    "\n",
    "                history['loss'].append(model_history.history['loss'][0])\n",
    "                history['acc'].append(model_history.history['acc'][0])\n",
    "                \n",
    "                history['val_loss'].append(model_history.history['val_loss'][0])\n",
    "                history['val_acc'].append(model_history.history['val_acc'][0])\n",
    "            \n",
    "    return history"
   ]
  },
  {
   "cell_type": "code",
   "execution_count": null,
   "metadata": {},
   "outputs": [],
   "source": [
    "hyperparameters = {}\n",
    "hyperparameters['epoch'] = 3\n",
    "hyperparameters['train_batch_len'] = 32\n",
    "hyperparameters['batch_size'] = 32\n",
    "\n",
    "augmentation_list = ['orig', 'orig_flip', 'orig_zoom', 'orig_flip_zoom', 'orig_blur', \\\n",
    "                     'orig_flip_blur', 'orig_noise', 'orig_flip_noise']\n",
    "hyperparameters['augmentation_list'] = augmentation_list\n",
    "\n",
    "hdf5_base_path = 'base/path/'\n",
    "\n",
    "m = (0, 0, 0)\n",
    "s = (1, 1, 1)\n",
    "hyperparameters['gause_noise_m'] = m\n",
    "hyperparameters['gause_noise_s'] = s\n",
    "\n",
    "save_img_size = (300, 300, 3)\n",
    "hyperparameters['save_img_size'] = save_img_size\n",
    "\n",
    "class_number = 7\n",
    "hyperparameters['class_number'] = class_number\n",
    "\n",
    "hdf5_dataset_list = ['batch', 'label', 'hotlabel', 'img_name']\n",
    "hyperparameters['name_dataset'] = hdf5_dataset_list\n",
    "\n",
    "augmentation_list = ['orig', 'orig_flip', 'orig_zoom', 'orig_flip_zoom', 'orig_blur', \\\n",
    "                     'orig_flip_blur', 'orig_noise', 'orig_flip_noise']\n",
    "hyperparameters['augmentation_list'] = augmentation_list"
   ]
  },
  {
   "cell_type": "markdown",
   "metadata": {},
   "source": [
    "### Callbacks "
   ]
  },
  {
   "cell_type": "code",
   "execution_count": null,
   "metadata": {},
   "outputs": [],
   "source": [
    "history = train(hyperparameters, hdf5_base_path, history)"
   ]
  },
  {
   "cell_type": "markdown",
   "metadata": {},
   "source": [
    "# Save Model"
   ]
  },
  {
   "cell_type": "code",
   "execution_count": null,
   "metadata": {},
   "outputs": [],
   "source": [
    "model.summary()"
   ]
  },
  {
   "cell_type": "code",
   "execution_count": null,
   "metadata": {},
   "outputs": [],
   "source": [
    "# Saving whole models (architecture + weights + optimizer state)\n",
    "model.save('save/model/model1.h5')"
   ]
  },
  {
   "cell_type": "code",
   "execution_count": null,
   "metadata": {},
   "outputs": [],
   "source": [
    "# Saving only a model's weights\n",
    "model.save_weights('save/model/model1_weights.h5')"
   ]
  },
  {
   "cell_type": "markdown",
   "metadata": {},
   "source": [
    "# Validation"
   ]
  },
  {
   "cell_type": "code",
   "execution_count": null,
   "metadata": {},
   "outputs": [],
   "source": [
    "hdf5_path = 'read/it/from/here/val.hdf5'\n",
    "X_val, Y_hot_label_val, img_name_val = get_hdf5(hdf5_dataset, hdf5_path)\n",
    "\n",
    "print (\"number of validation examples = \" + str(X_val.shape[0]))\n",
    "print (\"X_val shape: \" + str(X_val.shape))\n",
    "print (\"Y_val shape: \" + str(Y_hot_label_val.shape))"
   ]
  },
  {
   "cell_type": "code",
   "execution_count": null,
   "metadata": {},
   "outputs": [],
   "source": [
    "loss, acc = model.evaluate(X_val, Y_hot_label_val)\n",
    "print (\"Loss = \" + str(loss))\n",
    "\n",
    "print('Top-1 Accuracy {:.1%}'.format(acc))"
   ]
  },
  {
   "cell_type": "markdown",
   "metadata": {},
   "source": [
    "## Load the Model and Weights"
   ]
  },
  {
   "cell_type": "code",
   "execution_count": null,
   "metadata": {},
   "outputs": [],
   "source": [
    "model = load_model('load/it/from/here/model1.h5')"
   ]
  },
  {
   "cell_type": "markdown",
   "metadata": {},
   "source": [
    "# Test Model"
   ]
  },
  {
   "cell_type": "code",
   "execution_count": null,
   "metadata": {},
   "outputs": [],
   "source": [
    "hdf5_path = 'read/it/from/here/test.hdf5'\n",
    "X_test, Y_hot_label_test, img_name_test = get_hdf5(hdf5_dataset, hdf5_path)\n",
    "\n",
    "print (\"number of validation examples = \" + str(X_test.shape[0]))\n",
    "print (\"X_val shape: \" + str(X_test.shape))\n",
    "print (\"Y_val shape: \" + str(Y_hot_label_test.shape))"
   ]
  },
  {
   "cell_type": "code",
   "execution_count": null,
   "metadata": {},
   "outputs": [],
   "source": [
    "loss, acc = model.evaluate(X_test, Y_hot_label_test)\n",
    "print (\"Loss = \" + str(loss))\n",
    "\n",
    "print('Top-1 Accuracy {:.1%}'.format(acc))"
   ]
  },
  {
   "cell_type": "markdown",
   "metadata": {},
   "source": [
    "## Show the Results"
   ]
  },
  {
   "cell_type": "code",
   "execution_count": null,
   "metadata": {},
   "outputs": [],
   "source": [
    "def display_image_predictions(features, labels, predictions, hyperparameters):\n",
    "    n_classes = 7\n",
    "    label_names = ['VW-Passat', 'RENAULT-Fluence', 'FIAT-Linea', 'VW-Polo', 'RENAULT-Toros', 'FIAT-Dogan', 'OtherClass']\n",
    "    label_binarizer = LabelBinarizer()\n",
    "    label_binarizer.fit(range(n_classes))\n",
    "    label_ids = label_binarizer.inverse_transform(np.array(labels))\n",
    "\n",
    "    # Softmax Predictions\n",
    "    fig, axies = plt.subplots(nrows=4, ncols=2, figsize=(20, 18))\n",
    "\n",
    "    fig.tight_layout()\n",
    "\n",
    "    n_predictions = hyperparameters['top_n_predictions']\n",
    "    margin = 0.05\n",
    "    ind = np.arange(n_predictions)\n",
    "    width = (1. - 2. * margin) / n_predictions\n",
    "\n",
    "    for image_i, (feature, label_id, pred_values) in enumerate(zip(features, label_ids, predictions)):\n",
    "        pred_names = label_names[np.argmax(pred_values)]\n",
    "        correct_name = 'Sample:'+ str(image_i + 1) + '   |   Correct: ' + label_names[label_id]\n",
    "\n",
    "        axies[image_i][0].imshow(feature)\n",
    "        axies[image_i][0].set_title(correct_name, fontsize=14, fontweight='bold')\n",
    "        axies[image_i][0].set_axis_off()\n",
    "\n",
    "        axies[image_i][1].barh(ind + margin, pred_values[::-1], width)\n",
    "        \n",
    "        axies[image_i][1].set_yticks(ind + margin)\n",
    "        axies[image_i][1].set_yticklabels(['OtherClass', 'FIAT-Dogan', 'RENAULT-Toros', 'VW-Polo', 'FIAT-Linea', 'RENAULT-Fluence', 'VW-Passat'],fontsize=14, fontweight='bold')\n",
    "        \n",
    "        axies[image_i][1].set_xticks([0, 0.5, 0.8, 1.0])\n",
    "        \n",
    "    fig.savefig('example.png', bbox_inches='tight')"
   ]
  },
  {
   "cell_type": "code",
   "execution_count": null,
   "metadata": {},
   "outputs": [],
   "source": [
    "hyperparameters['n_samples'] = 4\n",
    "hyperparameters['top_n_predictions'] = Y_hot_label_test.shape[1]\n",
    "\n",
    "def show_results(X_test, Y_hot_label_test, hyperparameters):\n",
    "        \n",
    "    # Print Random Samples\n",
    "    random_test_features, random_test_labels = zip(*random.sample(list(zip(X_test, Y_hot_label_test)), \\\n",
    "                                                                  hyperparameters['n_samples']))\n",
    "    random_test_features = np.reshape(random_test_features, \\\n",
    "                                      (len(random_test_features), hyperparameters['save_img_size'][0],\\\n",
    "                                       hyperparameters['save_img_size'][1], hyperparameters['save_img_size'][2]))\n",
    "    y_pred = model.predict(random_test_features)\n",
    "    #print(random_test_labels)\n",
    "    #print(np.argmax(y_pred, axis =1))\n",
    "    display_image_predictions(random_test_features, random_test_labels, y_pred, hyperparameters)\n",
    "\n",
    "\n",
    "show_results(X_test, Y_hot_label_test, hyperparameters)"
   ]
  }
 ],
 "metadata": {
  "kernelspec": {
   "display_name": "Python 3",
   "language": "python",
   "name": "python3"
  },
  "language_info": {
   "codemirror_mode": {
    "name": "ipython",
    "version": 3
   },
   "file_extension": ".py",
   "mimetype": "text/x-python",
   "name": "python",
   "nbconvert_exporter": "python",
   "pygments_lexer": "ipython3",
   "version": "3.5.4"
  }
 },
 "nbformat": 4,
 "nbformat_minor": 2
}
